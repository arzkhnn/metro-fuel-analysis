{
 "cells": [
  {
   "cell_type": "code",
   "execution_count": 1,
   "id": "77f013da-857a-4276-92e3-637dac7548a3",
   "metadata": {},
   "outputs": [
    {
     "name": "stdout",
     "output_type": "stream",
     "text": [
      "✅ Found: Delhi, January 2023 - 355.3 M\n",
      "✅ Found: Delhi, February 2023 - 7.2 M\n",
      "✅ Found: Delhi, March 2023 - 9.0 M\n",
      "✅ Found: Delhi, April 2023 - 7.24 M\n",
      "✅ Found: Delhi, May 2023 - 4.0 M\n",
      "✅ Found: Delhi, June 2023 - 7.24 M\n",
      "✅ Found: Delhi, July 2023 - 7.24 M\n",
      "✅ Found: Delhi, August 2023 - 7.24 M\n",
      "✅ Found: Delhi, September 2023 - 7.75 M\n",
      "✅ Found: Delhi, October 2023 - 4.0 M\n",
      "✅ Found: Delhi, November 2023 - 7.87 M\n",
      "✅ Found: Delhi, December 2023 - 355.3 M\n",
      "✅ Found: Delhi, January 2024 - 6.7 M\n",
      "✅ Found: Delhi, February 2024 - 7.24 M\n",
      "✅ Found: Delhi, March 2024 - 6.0 M\n",
      "✅ Found: Delhi, April 2024 - 0.29 M\n",
      "✅ Found: Delhi, May 2024 - 4.0 M\n",
      "✅ Found: Delhi, June 2024 - 0.29 M\n",
      "✅ Found: Mumbai, January 2023 - 0.29 M\n",
      "✅ Found: Mumbai, February 2023 - 9.0 M\n",
      "✅ Found: Mumbai, March 2023 - 0.48 M\n",
      "✅ Found: Mumbai, April 2023 - 0.29 M\n",
      "✅ Found: Mumbai, May 2023 - 0.47 M\n",
      "✅ Found: Mumbai, June 2023 - 0.29 M\n",
      "✅ Found: Mumbai, July 2023 - 0.29 M\n",
      "✅ Found: Mumbai, August 2023 - 0.47 M\n",
      "✅ Found: Mumbai, September 2023 - 0.29 M\n",
      "✅ Found: Mumbai, October 2023 - 0.47 M\n",
      "✅ Found: Mumbai, November 2023 - 4.77 M\n",
      "✅ Found: Mumbai, December 2023 - 0.13 M\n",
      "✅ Found: Mumbai, January 2024 - 355.3 M\n",
      "✅ Found: Mumbai, February 2024 - 1.0 M\n",
      "✅ Found: Mumbai, March 2024 - 3.67 M\n",
      "✅ Found: Mumbai, April 2024 - 0.29 M\n",
      "✅ Found: Mumbai, May 2024 - 100.0 M\n",
      "✅ Found: Mumbai, June 2024 - 0.29 M\n",
      "✅ Found: Bengaluru, January 2023 - 2.5 M\n",
      "✅ Found: Bengaluru, February 2023 - 0.8 M\n",
      "✅ Found: Bengaluru, March 2023 - 2.5 M\n",
      "✅ Found: Bengaluru, April 2023 - 0.96 M\n",
      "✅ Found: Bengaluru, May 2023 - 0.83 M\n",
      "✅ Found: Bengaluru, June 2023 - 0.96 M\n",
      "✅ Found: Bengaluru, July 2023 - 0.75 M\n",
      "✅ Found: Bengaluru, August 2023 - 0.9 M\n",
      "✅ Found: Bengaluru, September 2023 - 0.76 M\n",
      "✅ Found: Bengaluru, October 2023 - 0.92 M\n",
      "✅ Found: Bengaluru, November 2023 - 2.5 M\n",
      "✅ Found: Bengaluru, December 2023 - 0.75 M\n",
      "✅ Found: Bengaluru, January 2024 - 0.92 M\n",
      "✅ Found: Bengaluru, February 2024 - 0.91 M\n",
      "✅ Found: Bengaluru, March 2024 - 2.5 M\n",
      "✅ Found: Bengaluru, April 2024 - 0.91 M\n",
      "✅ Found: Bengaluru, May 2024 - 0.92 M\n",
      "✅ Found: Bengaluru, June 2024 - 0.91 M\n",
      "✅ Saved to metro_ridership_2023_2024.csv\n"
     ]
    }
   ],
   "source": [
    "import requests\n",
    "from bs4 import BeautifulSoup\n",
    "import re\n",
    "import pandas as pd\n",
    "from time import sleep\n",
    "\n",
    "def get_ridership_from_google_news(city: str, month: str, year: str):\n",
    "    query = f\"{city} Metro ridership {month} {year}\"\n",
    "    url = f\"https://news.google.com/rss/search?q={query.replace(' ', '+')}\"\n",
    "\n",
    "    try:\n",
    "        response = requests.get(url, timeout=10)\n",
    "        soup = BeautifulSoup(response.content, \"xml\")\n",
    "        items = soup.find_all(\"item\")\n",
    "\n",
    "        for item in items:\n",
    "            title = item.title.text\n",
    "            description = item.description.text\n",
    "            link = item.link.text\n",
    "            full_text = title + \" \" + description\n",
    "\n",
    "            match = re.search(r\"(\\d+\\.?\\d*)\\s*(crore|lakh|million|mn)\", full_text, re.IGNORECASE)\n",
    "            if match:\n",
    "                number = float(match.group(1))\n",
    "                unit = match.group(2).lower()\n",
    "\n",
    "                if unit == \"crore\":\n",
    "                    value = number * 10\n",
    "                elif unit == \"lakh\":\n",
    "                    value = number * 0.1\n",
    "                elif unit in [\"million\", \"mn\"]:\n",
    "                    value = number\n",
    "                else:\n",
    "                    value = number\n",
    "\n",
    "                return {\n",
    "                    \"City\": city,\n",
    "                    \"Month\": f\"{year}-{month}\",\n",
    "                    \"Ridership (Million)\": round(value, 2),\n",
    "                    \"Source\": title[:100] + \"...\",\n",
    "                    \"URL\": link\n",
    "                }\n",
    "\n",
    "    except Exception as e:\n",
    "        return None\n",
    "\n",
    "    return None\n",
    "\n",
    "# Define date range and cities\n",
    "months_full = [\"January\", \"February\", \"March\", \"April\", \"May\", \"June\",\n",
    "               \"July\", \"August\", \"September\", \"October\", \"November\", \"December\"]\n",
    "year_month_pairs = [(year, month) for year in [2023, 2024] for month in months_full][:18]\n",
    "cities = [\"Delhi\", \"Mumbai\", \"Bengaluru\"]\n",
    "\n",
    "# Collect data\n",
    "all_data = []\n",
    "for city in cities:\n",
    "    for year, month in year_month_pairs:\n",
    "        result = get_ridership_from_google_news(city, month, str(year))\n",
    "        if result:\n",
    "            all_data.append(result)\n",
    "            print(f\"✅ Found: {city}, {month} {year} - {result['Ridership (Million)']} M\")\n",
    "        else:\n",
    "            print(f\"❌ Not found: {city}, {month} {year}\")\n",
    "        sleep(1.5)  # be polite to Google News\n",
    "\n",
    "# Save to DataFrame and CSV\n",
    "df = pd.DataFrame(all_data)\n",
    "df.to_csv(\"metro_ridership_2023_2024.csv\", index=False)\n",
    "print(\"✅ Saved to metro_ridership_2023_2024.csv\")\n"
   ]
  },
  {
   "cell_type": "code",
   "execution_count": 2,
   "id": "255e7fb1-8691-4a6c-9dd2-031e226956b6",
   "metadata": {},
   "outputs": [
    {
     "data": {
      "text/html": [
       "<a href='metro_ridership_2023_2024.csv' target='_blank'>metro_ridership_2023_2024.csv</a><br>"
      ],
      "text/plain": [
       "C:\\Users\\Aariz Khan\\Python-Jupyter Code Practice\\metro_ridership_2023_2024.csv"
      ]
     },
     "execution_count": 2,
     "metadata": {},
     "output_type": "execute_result"
    }
   ],
   "source": [
    "from IPython.display import FileLink\n",
    "FileLink('metro_ridership_2023_2024.csv')\n"
   ]
  },
  {
   "cell_type": "code",
   "execution_count": 3,
   "id": "551bcbaa-88be-4cc5-9996-cf1d43a8e6b9",
   "metadata": {},
   "outputs": [
    {
     "name": "stdout",
     "output_type": "stream",
     "text": [
      "✅ Cleaned file saved as metro_ridership_cleaned.csv\n"
     ]
    }
   ],
   "source": [
    "import pandas as pd\n",
    "\n",
    "# Load the original file\n",
    "df = pd.read_csv(\"metro_ridership_2023_2024.csv\")\n",
    "\n",
    "# Convert 'Ridership (Million)' to numeric, forcing errors to NaN\n",
    "df['Ridership (Million)'] = pd.to_numeric(df['Ridership (Million)'], errors='coerce')\n",
    "\n",
    "# Drop rows where Ridership couldn't be parsed\n",
    "df_cleaned = df.dropna(subset=['Ridership (Million)'])\n",
    "\n",
    "# (Optional) Sort by City and Month for easier reading\n",
    "df_cleaned = df_cleaned.sort_values(by=[\"City\", \"Month\"])\n",
    "\n",
    "# Save cleaned file\n",
    "df_cleaned.to_csv(\"metro_ridership_cleaned.csv\", index=False)\n",
    "\n",
    "print(\"✅ Cleaned file saved as metro_ridership_cleaned.csv\")\n"
   ]
  }
 ],
 "metadata": {
  "kernelspec": {
   "display_name": "Python 3 (ipykernel)",
   "language": "python",
   "name": "python3"
  },
  "language_info": {
   "codemirror_mode": {
    "name": "ipython",
    "version": 3
   },
   "file_extension": ".py",
   "mimetype": "text/x-python",
   "name": "python",
   "nbconvert_exporter": "python",
   "pygments_lexer": "ipython3",
   "version": "3.12.7"
  }
 },
 "nbformat": 4,
 "nbformat_minor": 5
}
